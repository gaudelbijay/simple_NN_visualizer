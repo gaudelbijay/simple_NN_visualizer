{
 "cells": [
  {
   "cell_type": "markdown",
   "metadata": {},
   "source": [
    "### Import libraries"
   ]
  },
  {
   "cell_type": "code",
   "execution_count": 1,
   "metadata": {},
   "outputs": [],
   "source": [
    "import tensorflow as tf\n",
    "import tensorflow.keras.models as models\n",
    "from tensorflow.keras.datasets.mnist import load_data\n",
    "from tensorflow.keras.layers import Dense\n",
    "import numpy as np\n",
    "import matplotlib.pyplot as plt\n",
    "\n",
    "%matplotlib inline"
   ]
  },
  {
   "cell_type": "markdown",
   "metadata": {},
   "source": [
    "### Download the dataset"
   ]
  },
  {
   "cell_type": "code",
   "execution_count": 2,
   "metadata": {},
   "outputs": [],
   "source": [
    "(x_train,y_train),(x_test,y_test) = load_data(path=\"mnist.npz\")"
   ]
  },
  {
   "cell_type": "markdown",
   "metadata": {},
   "source": [
    "### plot examples"
   ]
  },
  {
   "cell_type": "code",
   "execution_count": 3,
   "metadata": {},
   "outputs": [
    {
     "data": {
      "image/png": "[encoded data removed]",
      "text/plain": [
       "<Figure size 720x720 with 8 Axes>"
      ]
     },
     "metadata": {},
     "output_type": "display_data"
    }
   ],
   "source": [
    "plt.figure(figsize=(10,10))\n",
    "for i in range(0,8):\n",
    "    plt.subplot(4,4,i+1)\n",
    "    plt.imshow(x_train[i],cmap='binary')\n",
    "    plt.xlabel(str(y_train[i]))\n",
    "    plt.xticks([])\n",
    "    plt.yticks([])\n",
    "plt.show()"
   ]
  },
  {
   "cell_type": "markdown",
   "metadata": {},
   "source": [
    "### Data Normalization"
   ]
  },
  {
   "cell_type": "code",
   "execution_count": 4,
   "metadata": {},
   "outputs": [],
   "source": [
    "x_train = np.reshape(x_train,(x_train.shape[0],28*28))\n",
    "x_test = np.reshape(x_test,(x_test.shape[0],28*28))"
   ]
  },
  {
   "cell_type": "code",
   "execution_count": 5,
   "metadata": {},
   "outputs": [],
   "source": [
    "x_train =x_train/ 255\n",
    "x_test =x_test/ 255"
   ]
  },
  {
   "cell_type": "markdown",
   "metadata": {},
   "source": [
    "### Crate a Neural Network"
   ]
  },
  {
   "cell_type": "code",
   "execution_count": 6,
   "metadata": {},
   "outputs": [],
   "source": [
    "model = models.Sequential()\n",
    "model.add(Dense(32,activation='relu',input_shape=(784,)))\n",
    "model.add(Dense(32,activation='relu'))\n",
    "model.add(Dense(32,activation='relu'))\n",
    "model.add(Dense(10,activation='softmax'))"
   ]
  },
  {
   "cell_type": "code",
   "execution_count": 7,
   "metadata": {},
   "outputs": [],
   "source": [
    "model.compile(optimizer='adam', \n",
    "              loss='sparse_categorical_crossentropy',\n",
    "              metrics='accuracy')"
   ]
  },
  {
   "cell_type": "markdown",
   "metadata": {},
   "source": [
    "#### Train the model"
   ]
  },
  {
   "cell_type": "code",
   "execution_count": 8,
   "metadata": {},
   "outputs": [
    {
     "name": "stdout",
     "output_type": "stream",
     "text": [
      "Epoch 1/20\n",
      "30/30 - 1s - loss: 1.8856 - accuracy: 0.3765 - val_loss: 1.1773 - val_accuracy: 0.6905\n",
      "Epoch 2/20\n",
      "30/30 - 0s - loss: 0.7360 - accuracy: 0.8047 - val_loss: 0.4463 - val_accuracy: 0.8715\n",
      "Epoch 3/20\n",
      "30/30 - 0s - loss: 0.3989 - accuracy: 0.8860 - val_loss: 0.3354 - val_accuracy: 0.9023\n",
      "Epoch 4/20\n",
      "30/30 - 0s - loss: 0.3226 - accuracy: 0.9075 - val_loss: 0.2910 - val_accuracy: 0.9163\n",
      "Epoch 5/20\n",
      "30/30 - 0s - loss: 0.2833 - accuracy: 0.9182 - val_loss: 0.2639 - val_accuracy: 0.9248\n",
      "Epoch 6/20\n",
      "30/30 - 0s - loss: 0.2558 - accuracy: 0.9262 - val_loss: 0.2453 - val_accuracy: 0.9307\n",
      "Epoch 7/20\n",
      "30/30 - 0s - loss: 0.2358 - accuracy: 0.9328 - val_loss: 0.2317 - val_accuracy: 0.9340\n",
      "Epoch 8/20\n",
      "30/30 - 0s - loss: 0.2203 - accuracy: 0.9377 - val_loss: 0.2212 - val_accuracy: 0.9354\n",
      "Epoch 9/20\n",
      "30/30 - 0s - loss: 0.2069 - accuracy: 0.9414 - val_loss: 0.2064 - val_accuracy: 0.9401\n",
      "Epoch 10/20\n",
      "30/30 - 0s - loss: 0.1932 - accuracy: 0.9450 - val_loss: 0.1984 - val_accuracy: 0.9431\n",
      "Epoch 11/20\n",
      "30/30 - 0s - loss: 0.1837 - accuracy: 0.9481 - val_loss: 0.1933 - val_accuracy: 0.9457\n",
      "Epoch 12/20\n",
      "30/30 - 0s - loss: 0.1747 - accuracy: 0.9506 - val_loss: 0.1856 - val_accuracy: 0.9465\n",
      "Epoch 13/20\n",
      "30/30 - 0s - loss: 0.1656 - accuracy: 0.9528 - val_loss: 0.1775 - val_accuracy: 0.9483\n",
      "Epoch 14/20\n",
      "30/30 - 0s - loss: 0.1590 - accuracy: 0.9544 - val_loss: 0.1745 - val_accuracy: 0.9497\n",
      "Epoch 15/20\n",
      "30/30 - 0s - loss: 0.1516 - accuracy: 0.9568 - val_loss: 0.1673 - val_accuracy: 0.9513\n",
      "Epoch 16/20\n",
      "30/30 - 0s - loss: 0.1455 - accuracy: 0.9586 - val_loss: 0.1631 - val_accuracy: 0.9523\n",
      "Epoch 17/20\n",
      "30/30 - 0s - loss: 0.1404 - accuracy: 0.9594 - val_loss: 0.1633 - val_accuracy: 0.9523\n",
      "Epoch 18/20\n",
      "30/30 - 0s - loss: 0.1364 - accuracy: 0.9611 - val_loss: 0.1566 - val_accuracy: 0.9532\n",
      "Epoch 19/20\n",
      "30/30 - 0s - loss: 0.1310 - accuracy: 0.9628 - val_loss: 0.1559 - val_accuracy: 0.9542\n",
      "Epoch 20/20\n",
      "30/30 - 0s - loss: 0.1265 - accuracy: 0.9633 - val_loss: 0.1484 - val_accuracy: 0.9552\n"
     ]
    }
   ],
   "source": [
    "_ = model.fit(x_train, y_train, \n",
    "              validation_data=(x_test,y_test),\n",
    "              epochs = 20, \n",
    "              batch_size = 2048,\n",
    "              verbose = 2,\n",
    "             )"
   ]
  },
  {
   "cell_type": "markdown",
   "metadata": {},
   "source": [
    "### Save the model"
   ]
  },
  {
   "cell_type": "code",
   "execution_count": 9,
   "metadata": {},
   "outputs": [],
   "source": [
    "model.save('model.h5')"
   ]
  },
  {
   "cell_type": "markdown",
   "metadata": {},
   "source": [
    "### ML Server"
   ]
  },
  {
   "cell_type": "code",
   "execution_count": 10,
   "metadata": {},
   "outputs": [
    {
     "name": "stdout",
     "output_type": "stream",
     "text": [
      "Overwriting ml_server.py\n"
     ]
    }
   ],
   "source": [
    "%%writefile ml_server.py\n",
    "\n",
    "import json\n",
    "import tensorflow as tf\n",
    "from tensorflow.keras.models import Model\n",
    "from tensorflow.keras.datasets.mnist import load_data\n",
    "import numpy as np\n",
    "from flask import Flask, request\n",
    "\n",
    "app = Flask(__name__)\n",
    "model = tf.keras.models.load_model('model.h5')\n",
    "feature_model = Model(model.inputs,\n",
    "                     [layer.output for layer in model.layers])\n",
    "_,(x_test,_) = load_data()\n",
    "x_test = x_test/255.\n",
    "\n",
    "def get_prediction():\n",
    "    index = np.random.choice(x_test.shape[0])\n",
    "    image = x_test[index,:,:]\n",
    "    image_arr = np.reshape(image,(1,784))\n",
    "    return feature_model.predict(image_arr),image\n",
    "    \n",
    "\n",
    "@app.route('/',methods=['GET','POST'])\n",
    "def index():\n",
    "    if request.method=='POST':\n",
    "        preds,image = get_prediction()\n",
    "        final_preds = [p.tolist() for p in preds]\n",
    "        return json.dumps({\n",
    "            'prediction':final_preds,\n",
    "            'image': image.tolist()\n",
    "        })\n",
    "    return 'welcome to the model server'\n",
    "\n",
    "\n",
    "if __name__ == '__main__':\n",
    "    app.run()"
   ]
  },
  {
   "cell_type": "code",
   "execution_count": 13,
   "metadata": {},
   "outputs": [
    {
     "name": "stdout",
     "output_type": "stream",
     "text": [
      "Overwriting app.py\n"
     ]
    }
   ],
   "source": [
    "%%writefile app.py\n",
    "import numpy as np\n",
    "import streamlit as st\n",
    "import requests\n",
    "import json\n",
    "import matplotlib.pyplot as plt\n",
    "\n",
    "\n",
    "URI = \"http://127.0.0.1:5000/\"\n",
    "\n",
    "st.title(\"Neural Network Visualizer\")\n",
    "st.sidebar.markdown(\"Input Image\")\n",
    "\n",
    "if st.button('Get random prediction'):\n",
    "    response = requests.post(URI,data={})\n",
    "    response = json.loads(response.text)\n",
    "    preds = response.get('prediction')\n",
    "    image = response.get('image')\n",
    "    image = np.reshape(image,(28,28))\n",
    "    \n",
    "    st.sidebar.image(image,width=150)\n",
    "    \n",
    "    for layer,p in enumerate(preds):\n",
    "        numbers = np.squeeze(np.array(p))\n",
    "        plt.figure(figsize=(32,4))\n",
    "        if layer == 3:\n",
    "            row = 1\n",
    "            col = 10 \n",
    "        else:\n",
    "            row = 2 \n",
    "            col = 16\n",
    "        for i,number in enumerate(numbers):\n",
    "            plt.subplot(row,col,i+1)\n",
    "            plt.imshow(number*np.ones((8,8,3)).astype('float32'))\n",
    "            plt.xticks([])\n",
    "            plt.yticks([])\n",
    "            \n",
    "            if layer ==3:\n",
    "                plt.xlabel(str(i),fontsize=40)\n",
    "        plt.subplots_adjust(wspace=0.05, hspace=0.05, )\n",
    "        plt.tight_layout()\n",
    "        st.text('Layer{}'.format(layer))\n",
    "        st.pyplot()\n",
    "    "
   ]
  },
  {
   "cell_type": "code",
   "execution_count": null,
   "metadata": {},
   "outputs": [],
   "source": []
  }
 ],
 "metadata": {
  "kernelspec": {
   "display_name": "Python 3",
   "language": "python",
   "name": "python3"
  },
  "language_info": {
   "codemirror_mode": {
    "name": "ipython",
    "version": 3
   },
   "file_extension": ".py",
   "mimetype": "text/x-python",
   "name": "python",
   "nbconvert_exporter": "python",
   "pygments_lexer": "ipython3",
   "version": "3.6.8"
  }
 },
 "nbformat": 4,
 "nbformat_minor": 4
}
